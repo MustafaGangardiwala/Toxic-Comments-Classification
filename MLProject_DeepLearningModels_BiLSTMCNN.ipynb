{
 "cells": [
  {
   "cell_type": "code",
   "execution_count": null,
   "metadata": {
    "colab": {
     "base_uri": "https://localhost:8080/"
    },
    "id": "6oV5HwN2vdz5",
    "outputId": "31a6863a-297c-4401-c69b-dc7271b203ea"
   },
   "outputs": [
    {
     "name": "stdout",
     "output_type": "stream",
     "text": [
      "Mounted at /content/drive\n"
     ]
    }
   ],
   "source": [
    "from google.colab import drive\n",
    "drive.mount('/content/drive')"
   ]
  },
  {
   "cell_type": "code",
   "execution_count": null,
   "metadata": {
    "_cell_guid": "b1076dfc-b9ad-4769-8c92-a6c4dae69d19",
    "_uuid": "8f2839f25d086af736a60e9eeb907d3b93b6e0e5",
    "execution": {
     "iopub.execute_input": "2022-04-09T23:34:39.688020Z",
     "iopub.status.busy": "2022-04-09T23:34:39.687781Z",
     "iopub.status.idle": "2022-04-09T23:34:40.002123Z",
     "shell.execute_reply": "2022-04-09T23:34:40.001195Z",
     "shell.execute_reply.started": "2022-04-09T23:34:39.687977Z"
    },
    "id": "tAGwvczku9u5"
   },
   "outputs": [],
   "source": [
    "import numpy as np\n",
    "import pandas as pd\n",
    "import os\n",
    "import tensorflow as tf\n",
    "from sklearn.model_selection import train_test_split\n",
    "from sklearn.metrics import accuracy_score\n",
    "from sklearn.metrics import roc_auc_score\n",
    "from sklearn.metrics import accuracy_score, f1_score, recall_score, precision_score, roc_auc_score \n",
    "from keras.layers import Dense,Input,LSTM,Bidirectional,Activation,Conv1D,GRU\n",
    "from keras.callbacks import Callback\n",
    "from keras.layers import Dropout,Embedding,GlobalMaxPooling1D, MaxPooling1D, Add, Flatten\n",
    "from keras.preprocessing import text, sequence\n",
    "from keras.layers import GlobalAveragePooling1D, GlobalMaxPooling1D, concatenate, SpatialDropout1D\n",
    "from keras import initializers, regularizers, constraints, optimizers, layers, callbacks\n",
    "from keras.callbacks import EarlyStopping,ModelCheckpoint\n",
    "from keras.models import Model"
   ]
  },
  {
   "cell_type": "markdown",
   "metadata": {
    "id": "hG4VBykqWeJ4"
   },
   "source": [
    "Initalize Parameters. \n",
    "\n",
    "Kindly Download Glove (840B300d) file from this link:https://nlp.stanford.edu/projects/glove/ and dataset from this link: https://www.kaggle.com/competitions/jigsaw-toxic-comment-classification-challenge/data\n",
    "\n",
    "Please set the path of embedding of input data as per your local system."
   ]
  },
  {
   "cell_type": "code",
   "execution_count": null,
   "metadata": {
    "_cell_guid": "79c7e3d0-c299-4dcb-8224-4455121ee9b0",
    "_uuid": "d629ff2d2480ee46fbb7e2d37f6b5fab8052498a",
    "execution": {
     "iopub.execute_input": "2022-04-09T23:04:59.400273Z",
     "iopub.status.busy": "2022-04-09T23:04:59.399943Z",
     "iopub.status.idle": "2022-04-09T23:05:03.166711Z",
     "shell.execute_reply": "2022-04-09T23:05:03.165669Z",
     "shell.execute_reply.started": "2022-04-09T23:04:59.400194Z"
    },
    "id": "mBncWOIOu9u9"
   },
   "outputs": [],
   "source": [
    "max_features=150000\n",
    "maxlen=150\n",
    "embed_size=300\n",
    "batch_size = 128\n",
    "epochs = 4\n",
    "EMBEDDING_FILE = '/content/drive/MyDrive/glove.840B.300d.txt'\n",
    "train = pd.read_csv('/content/drive/MyDrive/train.csv.zip')\n",
    "test = pd.read_csv('/content/drive/MyDrive/test.csv.zip')\n",
    "test_y = pd.read_csv(\"/content/drive/MyDrive/Data/test_labels.csv\")"
   ]
  },
  {
   "cell_type": "markdown",
   "metadata": {
    "id": "6bRtysHpW_iw"
   },
   "source": [
    "Data Preprocessing, tokenization, padding and converting to sequences"
   ]
  },
  {
   "cell_type": "code",
   "execution_count": null,
   "metadata": {
    "id": "KmA7Gdt-WOW7"
   },
   "outputs": [],
   "source": [
    "train[\"comment_text\"].fillna(\"fillna\")\n",
    "test[\"comment_text\"].fillna(\"fillna\")\n",
    "X_train = train[\"comment_text\"].str.lower()\n",
    "y_train = train[[\"toxic\", \"severe_toxic\", \"obscene\", \"threat\", \"insult\", \"identity_hate\"]].values\n",
    "test_y = pd.read_csv(\"../input/jigsaw-toxic-comment-classification-challenge/test_labels.csv.zip\")\n",
    "X_test = test[\"comment_text\"].str.lower()\n",
    "\n",
    "tok=text.Tokenizer(num_words=max_features,lower=True)\n",
    "tok.fit_on_texts(list(X_train)+list(X_test))\n",
    "X_train=tok.texts_to_sequences(X_train)\n",
    "X_test=tok.texts_to_sequences(X_test)\n",
    "x_train=sequence.pad_sequences(X_train,maxlen=maxlen)\n",
    "x_test=sequence.pad_sequences(X_test,maxlen=maxlen)"
   ]
  },
  {
   "cell_type": "markdown",
   "metadata": {
    "id": "35svyQdPXIkN"
   },
   "source": [
    "Read Glove Embedding file and create embedding matrix."
   ]
  },
  {
   "cell_type": "code",
   "execution_count": null,
   "metadata": {
    "_cell_guid": "9e57a7cb-c061-4361-bbe2-05c0486a3f18",
    "_uuid": "9488bc9d68dfd1fde1f99d23a9f1ed7b30ceb87f",
    "execution": {
     "iopub.execute_input": "2022-04-09T23:00:13.036098Z",
     "iopub.status.busy": "2022-04-09T23:00:13.035738Z"
    },
    "id": "fRIyhR3Ku9u_"
   },
   "outputs": [],
   "source": [
    "embeddings_index = {}\n",
    "with open(EMBEDDING_FILE,encoding='utf8') as f:\n",
    "    for line in f:\n",
    "        values = line.rstrip().rsplit(' ')\n",
    "        word = values[0]\n",
    "        coefs = np.asarray(values[1:], dtype='float32')\n",
    "        embeddings_index[word] = coefs\n",
    "word_index = tok.word_index\n",
    "num_words = min(max_features, len(word_index) + 1)\n",
    "embedding_matrix = np.zeros((num_words, embed_size))\n",
    "for word, i in word_index.items():\n",
    "    if i >= max_features:\n",
    "        continue\n",
    "    embedding_vector = embeddings_index.get(word)\n",
    "    if embedding_vector is not None:\n",
    "        embedding_matrix[i] = embedding_vector"
   ]
  },
  {
   "cell_type": "markdown",
   "metadata": {
    "id": "vmJXZ_o2XSZg"
   },
   "source": [
    "Split training data into training and validation"
   ]
  },
  {
   "cell_type": "code",
   "execution_count": null,
   "metadata": {
    "_cell_guid": "46df26aa-adcd-4b2c-8644-76a1e51df2bc",
    "_uuid": "19975febdf6a0bd3077d8a92da13bb433085ce80",
    "id": "H43JvQ7cu9vB"
   },
   "outputs": [],
   "source": [
    "X_tra, X_val, y_tra, y_val = train_test_split(x_train, y_train, train_size=0.9, random_state=233)"
   ]
  },
  {
   "cell_type": "markdown",
   "metadata": {
    "id": "aPUPowHeXsPD"
   },
   "source": [
    "ROC AUC Evaluation for every epoch"
   ]
  },
  {
   "cell_type": "code",
   "execution_count": null,
   "metadata": {
    "id": "3vkG6MkHXrs9"
   },
   "outputs": [],
   "source": [
    "class RocAucEvaluation(Callback):\n",
    "    def __init__(self, validation_data=(), interval=1):\n",
    "        super(Callback, self).__init__()\n",
    "\n",
    "        self.interval = interval\n",
    "        self.X_val, self.y_val = validation_data\n",
    "\n",
    "    def on_epoch_end(self, epoch, logs={}):\n",
    "        if epoch % self.interval == 0:\n",
    "            y_pred = self.model.predict(self.X_val, verbose=0)\n",
    "            score = roc_auc_score(self.y_val, y_pred)\n",
    "            print(\"\\n ROC-AUC - epoch: {:d} - score: {:.6f}\".format(epoch+1, score))"
   ]
  },
  {
   "cell_type": "markdown",
   "metadata": {
    "id": "Wk-QtOTCY4wv"
   },
   "source": [
    "Model 1: Custom Embedding and without Glove Embeding"
   ]
  },
  {
   "cell_type": "code",
   "execution_count": null,
   "metadata": {
    "colab": {
     "base_uri": "https://localhost:8080/"
    },
    "id": "XJbkIHMV6n5v",
    "outputId": "c624fdfb-094c-47d9-a40e-da41c9fbfb82"
   },
   "outputs": [
    {
     "name": "stdout",
     "output_type": "stream",
     "text": [
      "Model: \"sequential\"\n",
      "_________________________________________________________________\n",
      " Layer (type)                Output Shape              Param #   \n",
      "=================================================================\n",
      " embedding (Embedding)       (None, None, 300)         30000000  \n",
      "                                                                 \n",
      " spatial_dropout1d (SpatialD  (None, None, 300)        0         \n",
      " ropout1D)                                                       \n",
      "                                                                 \n",
      " bidirectional (Bidirectiona  (None, None, 256)        439296    \n",
      " l)                                                              \n",
      "                                                                 \n",
      " conv1d (Conv1D)             (None, None, 256)         131328    \n",
      "                                                                 \n",
      " global_max_pooling1d (Globa  (None, 256)              0         \n",
      " lMaxPooling1D)                                                  \n",
      "                                                                 \n",
      " dense (Dense)               (None, 64)                16448     \n",
      "                                                                 \n",
      " dropout (Dropout)           (None, 64)                0         \n",
      "                                                                 \n",
      " dense_1 (Dense)             (None, 6)                 390       \n",
      "                                                                 \n",
      "=================================================================\n",
      "Total params: 30,587,462\n",
      "Trainable params: 30,587,462\n",
      "Non-trainable params: 0\n",
      "_________________________________________________________________\n"
     ]
    }
   ],
   "source": [
    "model = tf.keras.Sequential([tf.keras.layers.Embedding(max_features, embed_size),\n",
    "    tf.keras.layers.SpatialDropout1D(0.2),\n",
    "    tf.keras.layers.Bidirectional(tf.keras.layers.LSTM(128, return_sequences = True)),\n",
    "    tf.keras.layers.Conv1D(filters=256, kernel_size=2, padding='valid', kernel_initializer='glorot_uniform'),\n",
    "    tf.keras.layers.GlobalMaxPooling1D(),\n",
    "    tf.keras.layers.Dense(64, activation='relu'),\n",
    "    tf.keras.layers.Dropout(0.3),\n",
    "    tf.keras.layers.Dense(6, activation='sigmoid')])\n",
    "\n",
    "model.compile(loss=tf.keras.losses.BinaryCrossentropy(),optimizer=tf.keras.optimizers.Adam(),metrics=['accuracy'])\n",
    "model.summary()"
   ]
  },
  {
   "cell_type": "markdown",
   "metadata": {
    "id": "Xe5vqN0uY-eT"
   },
   "source": [
    "Proposed Model: Using Glove Embedding"
   ]
  },
  {
   "cell_type": "code",
   "execution_count": null,
   "metadata": {
    "_cell_guid": "1a4a1cf3-7faf-4ee4-a72e-a258169778a5",
    "_uuid": "560d3faac051bbb95dae6f1bf7013d52b404533c",
    "colab": {
     "base_uri": "https://localhost:8080/"
    },
    "id": "DpGt7WGCu9vA",
    "outputId": "d290c68f-9e28-4ba9-ac6c-9c0e06a2ff7d"
   },
   "outputs": [
    {
     "name": "stdout",
     "output_type": "stream",
     "text": [
      "WARNING:tensorflow:Layer gru will not use cuDNN kernels since it doesn't meet the criteria. It will use a generic GPU kernel as fallback when running on GPU.\n",
      "WARNING:tensorflow:Layer gru will not use cuDNN kernels since it doesn't meet the criteria. It will use a generic GPU kernel as fallback when running on GPU.\n",
      "WARNING:tensorflow:Layer gru will not use cuDNN kernels since it doesn't meet the criteria. It will use a generic GPU kernel as fallback when running on GPU.\n"
     ]
    }
   ],
   "source": [
    "model = None\n",
    "sequence_input = Input(shape=(maxlen, ))\n",
    "x = Embedding(max_features, embed_size, weights=[embedding_matrix],trainable = False)(sequence_input)\n",
    "x = SpatialDropout1D(0.2)(x)\n",
    "x = Bidirectional(GRU(128, return_sequences=True,dropout=0.1,recurrent_dropout=0.1))(x)\n",
    "x = Conv1D(64, kernel_size = 3, padding = \"valid\", kernel_initializer = \"glorot_uniform\")(x)\n",
    "avg_pool = GlobalAveragePooling1D()(x)\n",
    "max_pool = GlobalMaxPooling1D()(x)\n",
    "x = concatenate([avg_pool, max_pool]) \n",
    "preds = Dense(6, activation=\"sigmoid\")(x)\n",
    "model = Model(sequence_input, preds)\n",
    "model.compile(loss='binary_crossentropy',optimizer=tf.keras.optimizers.Adam(lr=1e-3),metrics=['accuracy'])"
   ]
  },
  {
   "cell_type": "code",
   "execution_count": null,
   "metadata": {
    "colab": {
     "base_uri": "https://localhost:8080/"
    },
    "id": "haOiXgrSxaoU",
    "outputId": "cb01da11-63e8-4ad8-ed31-504f86b79fd9"
   },
   "outputs": [
    {
     "name": "stdout",
     "output_type": "stream",
     "text": [
      "Model: \"model\"\n",
      "__________________________________________________________________________________________________\n",
      " Layer (type)                   Output Shape         Param #     Connected to                     \n",
      "==================================================================================================\n",
      " input_1 (InputLayer)           [(None, 150)]        0           []                               \n",
      "                                                                                                  \n",
      " embedding (Embedding)          (None, 150, 300)     30000000    ['input_1[0][0]']                \n",
      "                                                                                                  \n",
      " spatial_dropout1d (SpatialDrop  (None, 150, 300)    0           ['embedding[0][0]']              \n",
      " out1D)                                                                                           \n",
      "                                                                                                  \n",
      " bidirectional (Bidirectional)  (None, 150, 256)     330240      ['spatial_dropout1d[0][0]']      \n",
      "                                                                                                  \n",
      " conv1d (Conv1D)                (None, 148, 64)      49216       ['bidirectional[0][0]']          \n",
      "                                                                                                  \n",
      " global_average_pooling1d (Glob  (None, 64)          0           ['conv1d[0][0]']                 \n",
      " alAveragePooling1D)                                                                              \n",
      "                                                                                                  \n",
      " global_max_pooling1d (GlobalMa  (None, 64)          0           ['conv1d[0][0]']                 \n",
      " xPooling1D)                                                                                      \n",
      "                                                                                                  \n",
      " concatenate (Concatenate)      (None, 128)          0           ['global_average_pooling1d[0][0]'\n",
      "                                                                 , 'global_max_pooling1d[0][0]']  \n",
      "                                                                                                  \n",
      " dense (Dense)                  (None, 6)            774         ['concatenate[0][0]']            \n",
      "                                                                                                  \n",
      "==================================================================================================\n",
      "Total params: 30,380,230\n",
      "Trainable params: 380,230\n",
      "Non-trainable params: 30,000,000\n",
      "__________________________________________________________________________________________________\n"
     ]
    }
   ],
   "source": [
    "model.summary()"
   ]
  },
  {
   "cell_type": "markdown",
   "metadata": {
    "id": "3lBOhwMgZU0u"
   },
   "source": [
    "Training"
   ]
  },
  {
   "cell_type": "code",
   "execution_count": null,
   "metadata": {
    "_cell_guid": "e1962822-5dfb-4249-a714-ce95346150d4",
    "_uuid": "7956b05d34604689b7a10d56a61640091559eda2",
    "id": "zVHYNilvu9vB"
   },
   "outputs": [],
   "source": [
    "filepath=\"best.hdf5\"\n",
    "checkpoint = ModelCheckpoint(filepath, monitor='val_loss', verbose=1, save_best_only=True, mode='auto')\n",
    "early = EarlyStopping(monitor=\"val_loss\", mode=\"auto\", patience=5)\n",
    "ra_val = RocAucEvaluation(validation_data=(X_val, y_val), interval = 1)\n",
    "callbacks_list = [ra_val, early]"
   ]
  },
  {
   "cell_type": "markdown",
   "metadata": {
    "id": "JWQmL1Xua1N3"
   },
   "source": [
    "Please note that every time we train either model 1 or model 2 and then predict on test data using that particular model. So you might see the same variable names for each of the model and prediction on test data. While running the notebook again, please compile either of the model first, train it and run predictions before compiling another model."
   ]
  },
  {
   "cell_type": "code",
   "execution_count": null,
   "metadata": {
    "_cell_guid": "265115a8-296e-4b67-a6fc-02d0a584b501",
    "_uuid": "f7377e50952ffb6cc14bab3b34442788864eed68",
    "colab": {
     "base_uri": "https://localhost:8080/"
    },
    "id": "ZwPTeU3Ou9vB",
    "outputId": "e0d2955b-3fa0-478b-bd49-0576bad139a4"
   },
   "outputs": [
    {
     "name": "stdout",
     "output_type": "stream",
     "text": [
      "Epoch 1/4\n",
      "1122/1122 [==============================] - ETA: 0s - loss: 0.0682 - accuracy: 0.8529\n",
      " ROC-AUC - epoch: 1 - score: 0.975653\n",
      "1122/1122 [==============================] - 70s 60ms/step - loss: 0.0682 - accuracy: 0.8529 - val_loss: 0.0486 - val_accuracy: 0.9934\n",
      "Epoch 2/4\n",
      "1122/1122 [==============================] - ETA: 0s - loss: 0.0424 - accuracy: 0.9637\n",
      " ROC-AUC - epoch: 2 - score: 0.981289\n",
      "1122/1122 [==============================] - 66s 59ms/step - loss: 0.0424 - accuracy: 0.9637 - val_loss: 0.0474 - val_accuracy: 0.9934\n",
      "Epoch 3/4\n",
      "1122/1122 [==============================] - ETA: 0s - loss: 0.0345 - accuracy: 0.9341\n",
      " ROC-AUC - epoch: 3 - score: 0.982110\n",
      "1122/1122 [==============================] - 66s 58ms/step - loss: 0.0345 - accuracy: 0.9341 - val_loss: 0.0496 - val_accuracy: 0.9932\n",
      "Epoch 4/4\n",
      "1122/1122 [==============================] - ETA: 0s - loss: 0.0282 - accuracy: 0.8204\n",
      " ROC-AUC - epoch: 4 - score: 0.980355\n",
      "1122/1122 [==============================] - 65s 58ms/step - loss: 0.0282 - accuracy: 0.8204 - val_loss: 0.0558 - val_accuracy: 0.9681\n"
     ]
    }
   ],
   "source": [
    "model.fit(X_tra, y_tra, batch_size=batch_size, epochs=epochs, validation_data=(X_val, y_val),callbacks = callbacks_list,verbose=1)"
   ]
  },
  {
   "cell_type": "markdown",
   "metadata": {
    "id": "BzjMHIaJZYo7"
   },
   "source": [
    "Model 1 Prediction"
   ]
  },
  {
   "cell_type": "code",
   "execution_count": null,
   "metadata": {
    "colab": {
     "base_uri": "https://localhost:8080/"
    },
    "id": "hSTWen8Z7akK",
    "outputId": "5e5f57a8-b8e0-4f75-c44c-cf19c0a7e0c5"
   },
   "outputs": [
    {
     "name": "stdout",
     "output_type": "stream",
     "text": [
      "Predicting....\n",
      "150/150 [==============================] - 13s 83ms/step\n"
     ]
    }
   ],
   "source": [
    "model.load_weights(filepath)\n",
    "print('Predicting....')\n",
    "y_pred = model.predict(x_test,batch_size=1024,verbose=1)"
   ]
  },
  {
   "cell_type": "markdown",
   "metadata": {
    "id": "vanrysHDZfNj"
   },
   "source": [
    "Model 2 Prediction"
   ]
  },
  {
   "cell_type": "code",
   "execution_count": null,
   "metadata": {
    "_cell_guid": "bffedb6f-f020-4ff8-b2f5-acd9c5957841",
    "_uuid": "f28a8748f9726bd1d3ef4dfc63fc97dbf54274d6",
    "colab": {
     "base_uri": "https://localhost:8080/"
    },
    "id": "RP7s5uX_u9vC",
    "jupyter": {
     "outputs_hidden": true
    },
    "outputId": "b6588c00-699b-4965-a8fd-53cbcf8ad6cb"
   },
   "outputs": [
    {
     "name": "stdout",
     "output_type": "stream",
     "text": [
      "150/150 [==============================] - 38s 251ms/step\n"
     ]
    }
   ],
   "source": [
    "model.load_weights(filepath)\n",
    "y_pred = model.predict(x_test,batch_size=1024,verbose=1)"
   ]
  },
  {
   "cell_type": "markdown",
   "metadata": {
    "id": "r7Ym9UZ9cswI"
   },
   "source": [
    "The test data consists of some samples which are irrelevant as per reported by the data source. Those samples have output -1 for all labels so we filter them out and test on remaining data."
   ]
  },
  {
   "cell_type": "markdown",
   "metadata": {
    "id": "YGgAx6C-ZrTt"
   },
   "source": [
    "Model 1: ROC AUC SCORE"
   ]
  },
  {
   "cell_type": "code",
   "execution_count": null,
   "metadata": {
    "colab": {
     "base_uri": "https://localhost:8080/"
    },
    "id": "oiw35ZKGXRwM",
    "outputId": "c4838788-7cad-4af3-f26e-938ebace15f5"
   },
   "outputs": [
    {
     "data": {
      "text/plain": [
       "0.9653701634577642"
      ]
     },
     "execution_count": 20,
     "metadata": {},
     "output_type": "execute_result"
    }
   ],
   "source": [
    "labels = [\"toxic\", \"severe_toxic\", \"obscene\",\n",
    "               \"threat\", \"insult\", \"identity_hate\"]\n",
    "predict_df = pd.DataFrame()\n",
    "predict_df['id'] = test_y['id']\n",
    "predict_df[labels] = y_pred\n",
    "roc_auc_score(test_y[test_y['toxic']!=-1][labels],predict_df[test_y['toxic']!=-1][labels],average='weighted')"
   ]
  },
  {
   "cell_type": "markdown",
   "metadata": {
    "id": "gKa5U-RsZ630"
   },
   "source": [
    "Model 2: ROC AUC SCORE"
   ]
  },
  {
   "cell_type": "code",
   "execution_count": null,
   "metadata": {
    "colab": {
     "base_uri": "https://localhost:8080/"
    },
    "id": "DkvQxUw0kV6-",
    "outputId": "4912eed2-02c3-4312-c60e-25fe823cbf16"
   },
   "outputs": [
    {
     "name": "stdout",
     "output_type": "stream",
     "text": [
      "0.9768066140489071\n"
     ]
    }
   ],
   "source": [
    "labels = [\"toxic\", \"severe_toxic\", \"obscene\",\n",
    "               \"threat\", \"insult\", \"identity_hate\"]\n",
    "predict_df = pd.DataFrame()\n",
    "predict_df['id'] = test_y['id']\n",
    "predict_df[labels] = y_pred\n",
    "roc_auc_score(test_y[test_y['toxic']!=-1][labels],predict_df[test_y['toxic']!=-1][labels],average='weighted')"
   ]
  },
  {
   "cell_type": "markdown",
   "metadata": {
    "id": "NUj8yZG8f45V"
   },
   "source": [
    "Please ignore the below code cells as it was used to convert the notebook to pdf file\n",
    "\n",
    "\n"
   ]
  },
  {
   "cell_type": "code",
   "execution_count": null,
   "metadata": {
    "id": "9gKc78jxd4cE"
   },
   "outputs": [],
   "source": [
    "!wget -nc https://raw.githubusercontent.com/brpy/colab-pdf/master/colab_pdf.py"
   ]
  },
  {
   "cell_type": "code",
   "execution_count": null,
   "metadata": {
    "colab": {
     "base_uri": "https://localhost:8080/",
     "height": 295
    },
    "id": "oCKpVo9UeyyT",
    "outputId": "4bad1bd4-eb62-4ce4-834c-bfad370d0a52"
   },
   "outputs": [
    {
     "name": "stdout",
     "output_type": "stream",
     "text": [
      "\n",
      "WARNING: apt does not have a stable CLI interface. Use with caution in scripts.\n",
      "\n",
      "\n",
      "WARNING: apt does not have a stable CLI interface. Use with caution in scripts.\n",
      "\n",
      "Extracting templates from packages: 100%\n",
      "[NbConvertApp] Converting notebook /content/drive/MyDrive/Colab Notebooks/MLProject_DeepLearningModels_BiLSTMCNN.ipynb to pdf\n",
      "[NbConvertApp] Writing 51740 bytes to ./notebook.tex\n",
      "[NbConvertApp] Building PDF\n",
      "[NbConvertApp] Running xelatex 3 times: ['xelatex', './notebook.tex', '-quiet']\n",
      "[NbConvertApp] Running bibtex 1 time: ['bibtex', './notebook']\n",
      "[NbConvertApp] WARNING | bibtex had problems, most likely because there were no citations\n",
      "[NbConvertApp] PDF successfully created\n",
      "[NbConvertApp] Writing 47681 bytes to /content/drive/My Drive/MLProject_DeepLearningModels_BiLSTMCNN.pdf\n"
     ]
    },
    {
     "data": {
      "application/javascript": [
       "\n",
       "    async function download(id, filename, size) {\n",
       "      if (!google.colab.kernel.accessAllowed) {\n",
       "        return;\n",
       "      }\n",
       "      const div = document.createElement('div');\n",
       "      const label = document.createElement('label');\n",
       "      label.textContent = `Downloading \"${filename}\": `;\n",
       "      div.appendChild(label);\n",
       "      const progress = document.createElement('progress');\n",
       "      progress.max = size;\n",
       "      div.appendChild(progress);\n",
       "      document.body.appendChild(div);\n",
       "\n",
       "      const buffers = [];\n",
       "      let downloaded = 0;\n",
       "\n",
       "      const channel = await google.colab.kernel.comms.open(id);\n",
       "      // Send a message to notify the kernel that we're ready.\n",
       "      channel.send({})\n",
       "\n",
       "      for await (const message of channel.messages) {\n",
       "        // Send a message to notify the kernel that we're ready.\n",
       "        channel.send({})\n",
       "        if (message.buffers) {\n",
       "          for (const buffer of message.buffers) {\n",
       "            buffers.push(buffer);\n",
       "            downloaded += buffer.byteLength;\n",
       "            progress.value = downloaded;\n",
       "          }\n",
       "        }\n",
       "      }\n",
       "      const blob = new Blob(buffers, {type: 'application/binary'});\n",
       "      const a = document.createElement('a');\n",
       "      a.href = window.URL.createObjectURL(blob);\n",
       "      a.download = filename;\n",
       "      div.appendChild(a);\n",
       "      a.click();\n",
       "      div.remove();\n",
       "    }\n",
       "  "
      ],
      "text/plain": [
       "<IPython.core.display.Javascript object>"
      ]
     },
     "metadata": {},
     "output_type": "display_data"
    },
    {
     "data": {
      "application/javascript": [
       "download(\"download_446a3869-f038-4853-a10d-b0b03c62275f\", \"MLProject_DeepLearningModels_BiLSTMCNN.pdf\", 47681)"
      ],
      "text/plain": [
       "<IPython.core.display.Javascript object>"
      ]
     },
     "metadata": {},
     "output_type": "display_data"
    },
    {
     "data": {
      "application/vnd.google.colaboratory.intrinsic+json": {
       "type": "string"
      },
      "text/plain": [
       "'File ready to be Downloaded and Saved to Drive'"
      ]
     },
     "execution_count": 6,
     "metadata": {},
     "output_type": "execute_result"
    }
   ],
   "source": [
    "from colab_pdf import colab_pdf\n",
    "colab_pdf('MLProject_DeepLearningModels_BiLSTMCNN.ipynb')"
   ]
  }
 ],
 "metadata": {
  "accelerator": "GPU",
  "colab": {
   "collapsed_sections": [],
   "name": "MLProject_DeepLearningModels_BiLSTMCNN.ipynb",
   "provenance": []
  },
  "kernelspec": {
   "display_name": "Python 3",
   "language": "python",
   "name": "python3"
  },
  "language_info": {
   "codemirror_mode": {
    "name": "ipython",
    "version": 3
   },
   "file_extension": ".py",
   "mimetype": "text/x-python",
   "name": "python",
   "nbconvert_exporter": "python",
   "pygments_lexer": "ipython3",
   "version": "3.8.8"
  }
 },
 "nbformat": 4,
 "nbformat_minor": 1
}
